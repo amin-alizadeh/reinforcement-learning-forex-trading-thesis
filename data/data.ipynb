{
 "cells": [
  {
   "cell_type": "code",
   "execution_count": 1,
   "metadata": {},
   "outputs": [],
   "source": [
    "import pandas as pd\n",
    "import numpy as np\n",
    "import datetime"
   ]
  },
  {
   "cell_type": "code",
   "execution_count": 4,
   "metadata": {},
   "outputs": [],
   "source": [
    "df = pd.read_csv('minutes/EURCAD.csv', sep=';')"
   ]
  },
  {
   "cell_type": "code",
   "execution_count": 35,
   "metadata": {},
   "outputs": [],
   "source": [
    "df21 = df.query(\"Date>20210106 & Date<20210112\")"
   ]
  },
  {
   "cell_type": "code",
   "execution_count": 36,
   "metadata": {},
   "outputs": [
    {
     "data": {
      "text/plain": [
       "array([20210107, 20210108, 20210111], dtype=int64)"
      ]
     },
     "execution_count": 36,
     "metadata": {},
     "output_type": "execute_result"
    }
   ],
   "source": [
    "df21['Date'].unique()"
   ]
  },
  {
   "cell_type": "code",
   "execution_count": 34,
   "metadata": {},
   "outputs": [
    {
     "data": {
      "text/plain": [
       "(2868, 7)"
      ]
     },
     "execution_count": 34,
     "metadata": {},
     "output_type": "execute_result"
    }
   ],
   "source": [
    "df21.values.shape"
   ]
  },
  {
   "cell_type": "code",
   "execution_count": 39,
   "metadata": {},
   "outputs": [],
   "source": [
    "df_daily = pd.read_csv('daily/EURUSD_daily.csv', sep=';')"
   ]
  },
  {
   "cell_type": "code",
   "execution_count": 40,
   "metadata": {},
   "outputs": [
    {
     "data": {
      "text/html": [
       "<div>\n",
       "<style scoped>\n",
       "    .dataframe tbody tr th:only-of-type {\n",
       "        vertical-align: middle;\n",
       "    }\n",
       "\n",
       "    .dataframe tbody tr th {\n",
       "        vertical-align: top;\n",
       "    }\n",
       "\n",
       "    .dataframe thead th {\n",
       "        text-align: right;\n",
       "    }\n",
       "</style>\n",
       "<table border=\"1\" class=\"dataframe\">\n",
       "  <thead>\n",
       "    <tr style=\"text-align: right;\">\n",
       "      <th></th>\n",
       "      <th>Date</th>\n",
       "      <th>Open</th>\n",
       "      <th>Low</th>\n",
       "      <th>High</th>\n",
       "      <th>Close</th>\n",
       "      <th>Volume</th>\n",
       "    </tr>\n",
       "  </thead>\n",
       "  <tbody>\n",
       "    <tr>\n",
       "      <th>0</th>\n",
       "      <td>20140102</td>\n",
       "      <td>1.37553</td>\n",
       "      <td>1.36294</td>\n",
       "      <td>1.37746</td>\n",
       "      <td>1.36718</td>\n",
       "      <td>199626.371116</td>\n",
       "    </tr>\n",
       "    <tr>\n",
       "      <th>1</th>\n",
       "      <td>20140103</td>\n",
       "      <td>1.36718</td>\n",
       "      <td>1.35820</td>\n",
       "      <td>1.36726</td>\n",
       "      <td>1.35874</td>\n",
       "      <td>195848.901249</td>\n",
       "    </tr>\n",
       "    <tr>\n",
       "      <th>2</th>\n",
       "      <td>20140106</td>\n",
       "      <td>1.35935</td>\n",
       "      <td>1.35715</td>\n",
       "      <td>1.36527</td>\n",
       "      <td>1.36277</td>\n",
       "      <td>187620.391405</td>\n",
       "    </tr>\n",
       "    <tr>\n",
       "      <th>3</th>\n",
       "      <td>20140107</td>\n",
       "      <td>1.36276</td>\n",
       "      <td>1.35965</td>\n",
       "      <td>1.36562</td>\n",
       "      <td>1.36152</td>\n",
       "      <td>204513.741121</td>\n",
       "    </tr>\n",
       "    <tr>\n",
       "      <th>4</th>\n",
       "      <td>20140108</td>\n",
       "      <td>1.36154</td>\n",
       "      <td>1.35529</td>\n",
       "      <td>1.36350</td>\n",
       "      <td>1.35754</td>\n",
       "      <td>210419.931475</td>\n",
       "    </tr>\n",
       "    <tr>\n",
       "      <th>...</th>\n",
       "      <td>...</td>\n",
       "      <td>...</td>\n",
       "      <td>...</td>\n",
       "      <td>...</td>\n",
       "      <td>...</td>\n",
       "      <td>...</td>\n",
       "    </tr>\n",
       "    <tr>\n",
       "      <th>1883</th>\n",
       "      <td>20210222</td>\n",
       "      <td>1.21151</td>\n",
       "      <td>1.20911</td>\n",
       "      <td>1.21693</td>\n",
       "      <td>1.21551</td>\n",
       "      <td>136092.545672</td>\n",
       "    </tr>\n",
       "    <tr>\n",
       "      <th>1884</th>\n",
       "      <td>20210223</td>\n",
       "      <td>1.21551</td>\n",
       "      <td>1.21353</td>\n",
       "      <td>1.21801</td>\n",
       "      <td>1.21493</td>\n",
       "      <td>123596.545570</td>\n",
       "    </tr>\n",
       "    <tr>\n",
       "      <th>1885</th>\n",
       "      <td>20210224</td>\n",
       "      <td>1.21493</td>\n",
       "      <td>1.21092</td>\n",
       "      <td>1.21745</td>\n",
       "      <td>1.21664</td>\n",
       "      <td>160048.550791</td>\n",
       "    </tr>\n",
       "    <tr>\n",
       "      <th>1886</th>\n",
       "      <td>20210225</td>\n",
       "      <td>1.21630</td>\n",
       "      <td>1.21559</td>\n",
       "      <td>1.22433</td>\n",
       "      <td>1.21740</td>\n",
       "      <td>232552.360951</td>\n",
       "    </tr>\n",
       "    <tr>\n",
       "      <th>1887</th>\n",
       "      <td>20210226</td>\n",
       "      <td>1.21718</td>\n",
       "      <td>1.20621</td>\n",
       "      <td>1.21841</td>\n",
       "      <td>1.20704</td>\n",
       "      <td>311728.344181</td>\n",
       "    </tr>\n",
       "  </tbody>\n",
       "</table>\n",
       "<p>1888 rows × 6 columns</p>\n",
       "</div>"
      ],
      "text/plain": [
       "          Date     Open      Low     High    Close         Volume\n",
       "0     20140102  1.37553  1.36294  1.37746  1.36718  199626.371116\n",
       "1     20140103  1.36718  1.35820  1.36726  1.35874  195848.901249\n",
       "2     20140106  1.35935  1.35715  1.36527  1.36277  187620.391405\n",
       "3     20140107  1.36276  1.35965  1.36562  1.36152  204513.741121\n",
       "4     20140108  1.36154  1.35529  1.36350  1.35754  210419.931475\n",
       "...        ...      ...      ...      ...      ...            ...\n",
       "1883  20210222  1.21151  1.20911  1.21693  1.21551  136092.545672\n",
       "1884  20210223  1.21551  1.21353  1.21801  1.21493  123596.545570\n",
       "1885  20210224  1.21493  1.21092  1.21745  1.21664  160048.550791\n",
       "1886  20210225  1.21630  1.21559  1.22433  1.21740  232552.360951\n",
       "1887  20210226  1.21718  1.20621  1.21841  1.20704  311728.344181\n",
       "\n",
       "[1888 rows x 6 columns]"
      ]
     },
     "execution_count": 40,
     "metadata": {},
     "output_type": "execute_result"
    }
   ],
   "source": [
    "df_daily"
   ]
  },
  {
   "cell_type": "code",
   "execution_count": null,
   "metadata": {},
   "outputs": [],
   "source": []
  }
 ],
 "metadata": {
  "kernelspec": {
   "display_name": "Python 3",
   "language": "python",
   "name": "python3"
  },
  "language_info": {
   "codemirror_mode": {
    "name": "ipython",
    "version": 3
   },
   "file_extension": ".py",
   "mimetype": "text/x-python",
   "name": "python",
   "nbconvert_exporter": "python",
   "pygments_lexer": "ipython3",
   "version": "3.6.5"
  }
 },
 "nbformat": 4,
 "nbformat_minor": 4
}
