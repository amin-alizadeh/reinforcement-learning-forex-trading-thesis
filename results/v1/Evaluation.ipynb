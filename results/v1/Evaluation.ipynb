{
 "cells": [
  {
   "cell_type": "code",
   "execution_count": 2,
   "metadata": {},
   "outputs": [],
   "source": [
    "import os\n",
    "import numpy as np\n",
    "import pandas as pd\n",
    "import matplotlib.pyplot as plt\n",
    "from datetime import datetime\n",
    "import pickle\n",
    "\n",
    "os.chdir('D:/Thesis/bda-rl-code/tf-dq-keras/')\n",
    "from lib.configurations import Configurations, get_scale, process_technical_indicators\n",
    "from lib.environment import MultiStockEnv, Actions\n",
    "#from lib.agent import DQNAgent"
   ]
  },
  {
   "cell_type": "code",
   "execution_count": 51,
   "metadata": {},
   "outputs": [],
   "source": [
    "dfs = None\n",
    "train_directory = 'D:/Thesis/bda-rl-code/data/daily'\n",
    "n_stocks = 0\n",
    "join_columns = ['Date']\n",
    "data_filter = None#\"Date<20200100\"\n",
    "for f in os.listdir(train_directory):\n",
    "    fpath = os.path.join(train_directory, f)\n",
    "    if os.path.isfile(fpath):\n",
    "        n_stocks += 1\n",
    "        df = pd.read_csv(fpath, sep=';')\n",
    "        if data_filter is not None and len(data_filter) > 0:\n",
    "            df.query(data_filter, inplace=True)\n",
    "        indicator = f[:-4] if len(f.split('_')) == 1 else f.split('_')[0]\n",
    "        #df = process_technical_indicators(df, bars=10, suffix='')\n",
    "        \n",
    "        columns = [c for c in list(df.columns.values) if c not in join_columns]\n",
    "        new_columns = [f'{_}_{indicator}' for _ in columns]\n",
    "        df.rename(columns=dict(zip(columns, new_columns)), inplace=True)\n",
    "\n",
    "        \n",
    "        if dfs is None:\n",
    "            dfs = df.copy()\n",
    "        else:\n",
    "            dfs = pd.merge(dfs, df, how='inner',\n",
    "                           left_on=join_columns, right_on=join_columns,\n",
    "                           suffixes=('', f'_{indicator}'))"
   ]
  },
  {
   "cell_type": "code",
   "execution_count": 40,
   "metadata": {},
   "outputs": [],
   "source": [
    "open_cols = [c for c in dfs.columns if 'Open' in c]\n",
    "close_cols = [c for c in dfs.columns if 'Close' in c]"
   ]
  },
  {
   "cell_type": "code",
   "execution_count": 66,
   "metadata": {},
   "outputs": [],
   "source": [
    "initial_investment = 20000\n",
    "dfs.query(\"Date>20200100\", inplace=True)\n",
    "dfs.reset_index(drop=True, inplace=True)"
   ]
  },
  {
   "cell_type": "code",
   "execution_count": 45,
   "metadata": {},
   "outputs": [
    {
     "data": {
      "text/html": [
       "<div>\n",
       "<style scoped>\n",
       "    .dataframe tbody tr th:only-of-type {\n",
       "        vertical-align: middle;\n",
       "    }\n",
       "\n",
       "    .dataframe tbody tr th {\n",
       "        vertical-align: top;\n",
       "    }\n",
       "\n",
       "    .dataframe thead th {\n",
       "        text-align: right;\n",
       "    }\n",
       "</style>\n",
       "<table border=\"1\" class=\"dataframe\">\n",
       "  <thead>\n",
       "    <tr style=\"text-align: right;\">\n",
       "      <th></th>\n",
       "      <th>Close_EURCAD</th>\n",
       "      <th>Close_EURCHF</th>\n",
       "      <th>Close_EURGBP</th>\n",
       "      <th>Close_EURJPY</th>\n",
       "      <th>Close_EURUSD</th>\n",
       "    </tr>\n",
       "  </thead>\n",
       "  <tbody>\n",
       "    <tr>\n",
       "      <th>304</th>\n",
       "      <td>1.53707</td>\n",
       "      <td>1.09667</td>\n",
       "      <td>0.8667</td>\n",
       "      <td>128.573</td>\n",
       "      <td>1.20704</td>\n",
       "    </tr>\n",
       "  </tbody>\n",
       "</table>\n",
       "</div>"
      ],
      "text/plain": [
       "     Close_EURCAD  Close_EURCHF  Close_EURGBP  Close_EURJPY  Close_EURUSD\n",
       "304       1.53707       1.09667        0.8667       128.573       1.20704"
      ]
     },
     "execution_count": 45,
     "metadata": {},
     "output_type": "execute_result"
    }
   ],
   "source": [
    "dfs.loc[[len(dfs)-1], close_cols]"
   ]
  },
  {
   "cell_type": "code",
   "execution_count": 77,
   "metadata": {},
   "outputs": [
    {
     "name": "stdout",
     "output_type": "stream",
     "text": [
      "Open_EURCAD 1.45551\n",
      "Open_EURCHF 1.08423\n",
      "Open_EURGBP 0.84593\n",
      "Open_EURJPY 121.851\n",
      "Open_EURUSD 1.12106\n"
     ]
    }
   ],
   "source": [
    "available_fund\n",
    "for k, v in dfs.loc[[0], open_cols].to_dict(orient='index')[0].items():\n",
    "    "
   ]
  },
  {
   "cell_type": "code",
   "execution_count": null,
   "metadata": {},
   "outputs": [],
   "source": []
  }
 ],
 "metadata": {
  "kernelspec": {
   "display_name": "Python 3",
   "language": "python",
   "name": "python3"
  },
  "language_info": {
   "codemirror_mode": {
    "name": "ipython",
    "version": 3
   },
   "file_extension": ".py",
   "mimetype": "text/x-python",
   "name": "python",
   "nbconvert_exporter": "python",
   "pygments_lexer": "ipython3",
   "version": "3.6.5"
  }
 },
 "nbformat": 4,
 "nbformat_minor": 4
}
